{
  "nbformat": 4,
  "nbformat_minor": 0,
  "metadata": {
    "colab": {
      "name": "PengembanganML-1-citrus.ipynb",
      "provenance": [],
      "collapsed_sections": [],
      "mount_file_id": "1H-0-gklJyWwLEM_Zm310srn-XEPGtQJ6",
      "authorship_tag": "ABX9TyMtzgu1zTOKDs5/8kWYosOJ",
      "include_colab_link": true
    },
    "kernelspec": {
      "name": "python3",
      "display_name": "Python 3"
    },
    "language_info": {
      "name": "python"
    }
  },
  "cells": [
    {
      "cell_type": "markdown",
      "metadata": {
        "id": "view-in-github",
        "colab_type": "text"
      },
      "source": [
        "<a href=\"https://colab.research.google.com/github/ausfear/Python/blob/main/Machine%20Learning%20Projects/Kelas%20Pengembangan%20ML/PengembanganML_1_citrus.ipynb\" target=\"_parent\"><img src=\"https://colab.research.google.com/assets/colab-badge.svg\" alt=\"Open In Colab\"/></a>"
      ]
    },
    {
      "cell_type": "code",
      "metadata": {
        "colab": {
          "base_uri": "https://localhost:8080/"
        },
        "id": "YHV3y7zfZHp8",
        "outputId": "73bdb3ec-a5fc-436f-d02a-f77ffab5d94d"
      },
      "source": [
        "import pandas as pd\n",
        "citrus = pd.read_csv('citrus.csv')  #Upload citrus.csv first\n",
        "citrus.info()"
      ],
      "execution_count": 3,
      "outputs": [
        {
          "output_type": "stream",
          "text": [
            "<class 'pandas.core.frame.DataFrame'>\n",
            "RangeIndex: 10000 entries, 0 to 9999\n",
            "Data columns (total 6 columns):\n",
            " #   Column    Non-Null Count  Dtype  \n",
            "---  ------    --------------  -----  \n",
            " 0   name      10000 non-null  object \n",
            " 1   diameter  10000 non-null  float64\n",
            " 2   weight    10000 non-null  float64\n",
            " 3   red       10000 non-null  int64  \n",
            " 4   green     10000 non-null  int64  \n",
            " 5   blue      10000 non-null  int64  \n",
            "dtypes: float64(2), int64(3), object(1)\n",
            "memory usage: 468.9+ KB\n"
          ],
          "name": "stdout"
        }
      ]
    },
    {
      "cell_type": "code",
      "metadata": {
        "colab": {
          "base_uri": "https://localhost:8080/",
          "height": 203
        },
        "id": "1CjDr32yaVAT",
        "outputId": "ee9438ee-474f-4599-f405-f63377552931"
      },
      "source": [
        "citrus.head()"
      ],
      "execution_count": 4,
      "outputs": [
        {
          "output_type": "execute_result",
          "data": {
            "text/html": [
              "<div>\n",
              "<style scoped>\n",
              "    .dataframe tbody tr th:only-of-type {\n",
              "        vertical-align: middle;\n",
              "    }\n",
              "\n",
              "    .dataframe tbody tr th {\n",
              "        vertical-align: top;\n",
              "    }\n",
              "\n",
              "    .dataframe thead th {\n",
              "        text-align: right;\n",
              "    }\n",
              "</style>\n",
              "<table border=\"1\" class=\"dataframe\">\n",
              "  <thead>\n",
              "    <tr style=\"text-align: right;\">\n",
              "      <th></th>\n",
              "      <th>name</th>\n",
              "      <th>diameter</th>\n",
              "      <th>weight</th>\n",
              "      <th>red</th>\n",
              "      <th>green</th>\n",
              "      <th>blue</th>\n",
              "    </tr>\n",
              "  </thead>\n",
              "  <tbody>\n",
              "    <tr>\n",
              "      <th>0</th>\n",
              "      <td>orange</td>\n",
              "      <td>2.96</td>\n",
              "      <td>86.76</td>\n",
              "      <td>172</td>\n",
              "      <td>85</td>\n",
              "      <td>2</td>\n",
              "    </tr>\n",
              "    <tr>\n",
              "      <th>1</th>\n",
              "      <td>orange</td>\n",
              "      <td>3.91</td>\n",
              "      <td>88.05</td>\n",
              "      <td>166</td>\n",
              "      <td>78</td>\n",
              "      <td>3</td>\n",
              "    </tr>\n",
              "    <tr>\n",
              "      <th>2</th>\n",
              "      <td>orange</td>\n",
              "      <td>4.42</td>\n",
              "      <td>95.17</td>\n",
              "      <td>156</td>\n",
              "      <td>81</td>\n",
              "      <td>2</td>\n",
              "    </tr>\n",
              "    <tr>\n",
              "      <th>3</th>\n",
              "      <td>orange</td>\n",
              "      <td>4.47</td>\n",
              "      <td>95.60</td>\n",
              "      <td>163</td>\n",
              "      <td>81</td>\n",
              "      <td>4</td>\n",
              "    </tr>\n",
              "    <tr>\n",
              "      <th>4</th>\n",
              "      <td>orange</td>\n",
              "      <td>4.48</td>\n",
              "      <td>95.76</td>\n",
              "      <td>161</td>\n",
              "      <td>72</td>\n",
              "      <td>9</td>\n",
              "    </tr>\n",
              "  </tbody>\n",
              "</table>\n",
              "</div>"
            ],
            "text/plain": [
              "     name  diameter  weight  red  green  blue\n",
              "0  orange      2.96   86.76  172     85     2\n",
              "1  orange      3.91   88.05  166     78     3\n",
              "2  orange      4.42   95.17  156     81     2\n",
              "3  orange      4.47   95.60  163     81     4\n",
              "4  orange      4.48   95.76  161     72     9"
            ]
          },
          "metadata": {
            "tags": []
          },
          "execution_count": 4
        }
      ]
    },
    {
      "cell_type": "code",
      "metadata": {
        "colab": {
          "base_uri": "https://localhost:8080/",
          "height": 593
        },
        "id": "3MErt3MIaYHD",
        "outputId": "31321ea3-33cf-4abf-b226-be7cfedb7dd8"
      },
      "source": [
        "citrus.name[citrus.name == 'orange'] = 0\n",
        "citrus.name[citrus.name == 'grapefruit'] = 1\n",
        "\n",
        "citrus.head(10000)"
      ],
      "execution_count": 6,
      "outputs": [
        {
          "output_type": "stream",
          "text": [
            "/usr/local/lib/python3.7/dist-packages/ipykernel_launcher.py:1: SettingWithCopyWarning: \n",
            "A value is trying to be set on a copy of a slice from a DataFrame\n",
            "\n",
            "See the caveats in the documentation: https://pandas.pydata.org/pandas-docs/stable/user_guide/indexing.html#returning-a-view-versus-a-copy\n",
            "  \"\"\"Entry point for launching an IPython kernel.\n",
            "/usr/local/lib/python3.7/dist-packages/ipykernel_launcher.py:2: SettingWithCopyWarning: \n",
            "A value is trying to be set on a copy of a slice from a DataFrame\n",
            "\n",
            "See the caveats in the documentation: https://pandas.pydata.org/pandas-docs/stable/user_guide/indexing.html#returning-a-view-versus-a-copy\n",
            "  \n"
          ],
          "name": "stderr"
        },
        {
          "output_type": "execute_result",
          "data": {
            "text/html": [
              "<div>\n",
              "<style scoped>\n",
              "    .dataframe tbody tr th:only-of-type {\n",
              "        vertical-align: middle;\n",
              "    }\n",
              "\n",
              "    .dataframe tbody tr th {\n",
              "        vertical-align: top;\n",
              "    }\n",
              "\n",
              "    .dataframe thead th {\n",
              "        text-align: right;\n",
              "    }\n",
              "</style>\n",
              "<table border=\"1\" class=\"dataframe\">\n",
              "  <thead>\n",
              "    <tr style=\"text-align: right;\">\n",
              "      <th></th>\n",
              "      <th>name</th>\n",
              "      <th>diameter</th>\n",
              "      <th>weight</th>\n",
              "      <th>red</th>\n",
              "      <th>green</th>\n",
              "      <th>blue</th>\n",
              "    </tr>\n",
              "  </thead>\n",
              "  <tbody>\n",
              "    <tr>\n",
              "      <th>0</th>\n",
              "      <td>0</td>\n",
              "      <td>2.96</td>\n",
              "      <td>86.76</td>\n",
              "      <td>172</td>\n",
              "      <td>85</td>\n",
              "      <td>2</td>\n",
              "    </tr>\n",
              "    <tr>\n",
              "      <th>1</th>\n",
              "      <td>0</td>\n",
              "      <td>3.91</td>\n",
              "      <td>88.05</td>\n",
              "      <td>166</td>\n",
              "      <td>78</td>\n",
              "      <td>3</td>\n",
              "    </tr>\n",
              "    <tr>\n",
              "      <th>2</th>\n",
              "      <td>0</td>\n",
              "      <td>4.42</td>\n",
              "      <td>95.17</td>\n",
              "      <td>156</td>\n",
              "      <td>81</td>\n",
              "      <td>2</td>\n",
              "    </tr>\n",
              "    <tr>\n",
              "      <th>3</th>\n",
              "      <td>0</td>\n",
              "      <td>4.47</td>\n",
              "      <td>95.60</td>\n",
              "      <td>163</td>\n",
              "      <td>81</td>\n",
              "      <td>4</td>\n",
              "    </tr>\n",
              "    <tr>\n",
              "      <th>4</th>\n",
              "      <td>0</td>\n",
              "      <td>4.48</td>\n",
              "      <td>95.76</td>\n",
              "      <td>161</td>\n",
              "      <td>72</td>\n",
              "      <td>9</td>\n",
              "    </tr>\n",
              "    <tr>\n",
              "      <th>...</th>\n",
              "      <td>...</td>\n",
              "      <td>...</td>\n",
              "      <td>...</td>\n",
              "      <td>...</td>\n",
              "      <td>...</td>\n",
              "      <td>...</td>\n",
              "    </tr>\n",
              "    <tr>\n",
              "      <th>9995</th>\n",
              "      <td>1</td>\n",
              "      <td>15.35</td>\n",
              "      <td>253.89</td>\n",
              "      <td>149</td>\n",
              "      <td>77</td>\n",
              "      <td>20</td>\n",
              "    </tr>\n",
              "    <tr>\n",
              "      <th>9996</th>\n",
              "      <td>1</td>\n",
              "      <td>15.41</td>\n",
              "      <td>254.67</td>\n",
              "      <td>148</td>\n",
              "      <td>68</td>\n",
              "      <td>7</td>\n",
              "    </tr>\n",
              "    <tr>\n",
              "      <th>9997</th>\n",
              "      <td>1</td>\n",
              "      <td>15.59</td>\n",
              "      <td>256.50</td>\n",
              "      <td>168</td>\n",
              "      <td>82</td>\n",
              "      <td>20</td>\n",
              "    </tr>\n",
              "    <tr>\n",
              "      <th>9998</th>\n",
              "      <td>1</td>\n",
              "      <td>15.92</td>\n",
              "      <td>260.14</td>\n",
              "      <td>142</td>\n",
              "      <td>72</td>\n",
              "      <td>11</td>\n",
              "    </tr>\n",
              "    <tr>\n",
              "      <th>9999</th>\n",
              "      <td>1</td>\n",
              "      <td>16.45</td>\n",
              "      <td>261.51</td>\n",
              "      <td>152</td>\n",
              "      <td>74</td>\n",
              "      <td>2</td>\n",
              "    </tr>\n",
              "  </tbody>\n",
              "</table>\n",
              "<p>10000 rows × 6 columns</p>\n",
              "</div>"
            ],
            "text/plain": [
              "     name  diameter  weight  red  green  blue\n",
              "0       0      2.96   86.76  172     85     2\n",
              "1       0      3.91   88.05  166     78     3\n",
              "2       0      4.42   95.17  156     81     2\n",
              "3       0      4.47   95.60  163     81     4\n",
              "4       0      4.48   95.76  161     72     9\n",
              "...   ...       ...     ...  ...    ...   ...\n",
              "9995    1     15.35  253.89  149     77    20\n",
              "9996    1     15.41  254.67  148     68     7\n",
              "9997    1     15.59  256.50  168     82    20\n",
              "9998    1     15.92  260.14  142     72    11\n",
              "9999    1     16.45  261.51  152     74     2\n",
              "\n",
              "[10000 rows x 6 columns]"
            ]
          },
          "metadata": {
            "tags": []
          },
          "execution_count": 6
        }
      ]
    },
    {
      "cell_type": "code",
      "metadata": {
        "colab": {
          "base_uri": "https://localhost:8080/"
        },
        "id": "V3iajgL2als7",
        "outputId": "eceb4506-c3f9-4f5c-88a3-fdff2bde8696"
      },
      "source": [
        "dataset = citrus.values\n",
        "\n",
        "dataset"
      ],
      "execution_count": 7,
      "outputs": [
        {
          "output_type": "execute_result",
          "data": {
            "text/plain": [
              "array([[0, 2.96, 86.76, 172, 85, 2],\n",
              "       [0, 3.91, 88.05, 166, 78, 3],\n",
              "       [0, 4.42, 95.17, 156, 81, 2],\n",
              "       ...,\n",
              "       [1, 15.59, 256.5, 168, 82, 20],\n",
              "       [1, 15.92, 260.14, 142, 72, 11],\n",
              "       [1, 16.45, 261.51, 152, 74, 2]], dtype=object)"
            ]
          },
          "metadata": {
            "tags": []
          },
          "execution_count": 7
        }
      ]
    },
    {
      "cell_type": "code",
      "metadata": {
        "id": "iqLA1oK7a7jz"
      },
      "source": [
        "x = dataset[:,1:6]\n",
        "y = dataset[:,0]"
      ],
      "execution_count": 9,
      "outputs": []
    },
    {
      "cell_type": "code",
      "metadata": {
        "colab": {
          "base_uri": "https://localhost:8080/"
        },
        "id": "iUNuMumGpEdK",
        "outputId": "c0c9ce26-8163-416e-cbd0-f6484ebece65"
      },
      "source": [
        "from sklearn import preprocessing\n",
        "min_max_scaler = preprocessing.MinMaxScaler()\n",
        "x_scale = min_max_scaler.fit_transform(x)\n",
        "x_scale"
      ],
      "execution_count": 12,
      "outputs": [
        {
          "output_type": "execute_result",
          "data": {
            "text/plain": [
              "array([[0.        , 0.        , 0.74025974, 0.63529412, 0.        ],\n",
              "       [0.07042254, 0.00738197, 0.66233766, 0.55294118, 0.01851852],\n",
              "       [0.10822832, 0.04812589, 0.53246753, 0.58823529, 0.        ],\n",
              "       ...,\n",
              "       [0.93624907, 0.97133047, 0.68831169, 0.6       , 0.33333333],\n",
              "       [0.96071164, 0.99216023, 0.35064935, 0.48235294, 0.16666667],\n",
              "       [1.        , 1.        , 0.48051948, 0.50588235, 0.        ]])"
            ]
          },
          "metadata": {
            "tags": []
          },
          "execution_count": 12
        }
      ]
    },
    {
      "cell_type": "code",
      "metadata": {
        "id": "TNWECK79pZ9q"
      },
      "source": [
        "from sklearn.model_selection import train_test_split\n",
        "x_train, x_test, y_train, y_test = train_test_split(x_scale, y, test_size=0.3)"
      ],
      "execution_count": 15,
      "outputs": []
    },
    {
      "cell_type": "code",
      "metadata": {
        "id": "vf0yrIY0pvvq"
      },
      "source": [
        "import numpy as np\n",
        "y_train = y_train.astype(np.float32)\n",
        "y_test = y_test.astype(np.float32)"
      ],
      "execution_count": 16,
      "outputs": []
    },
    {
      "cell_type": "code",
      "metadata": {
        "id": "9FHe5FnPqAgk"
      },
      "source": [
        "from keras.models import Sequential\n",
        "from keras.layers import Dense"
      ],
      "execution_count": 17,
      "outputs": []
    },
    {
      "cell_type": "code",
      "metadata": {
        "id": "GlNYhsAEqLmh"
      },
      "source": [
        "model = Sequential([\n",
        "                    Dense(32, activation='relu', input_shape=(5,)),\n",
        "                    Dense(32, activation='relu'),\n",
        "                    Dense(1, activation='sigmoid'),\n",
        "])"
      ],
      "execution_count": 18,
      "outputs": []
    },
    {
      "cell_type": "code",
      "metadata": {
        "id": "n0kxNqlQqfC4"
      },
      "source": [
        "model.compile(\n",
        "    optimizer='sgd',\n",
        "    loss='binary_crossentropy',\n",
        "    metrics=['accuracy']\n",
        ")"
      ],
      "execution_count": 19,
      "outputs": []
    },
    {
      "cell_type": "code",
      "metadata": {
        "colab": {
          "base_uri": "https://localhost:8080/"
        },
        "id": "1grBhBz0qtwa",
        "outputId": "2dae97d3-f976-4d11-aec1-0c3017979d2a"
      },
      "source": [
        "model.fit(x_train, y_train, epochs=101)"
      ],
      "execution_count": 20,
      "outputs": [
        {
          "output_type": "stream",
          "text": [
            "Epoch 1/101\n",
            "219/219 [==============================] - 13s 1ms/step - loss: 0.6630 - accuracy: 0.7198\n",
            "Epoch 2/101\n",
            "219/219 [==============================] - 0s 1ms/step - loss: 0.6137 - accuracy: 0.9088\n",
            "Epoch 3/101\n",
            "219/219 [==============================] - 0s 1ms/step - loss: 0.5522 - accuracy: 0.9169\n",
            "Epoch 4/101\n",
            "219/219 [==============================] - 0s 1ms/step - loss: 0.4636 - accuracy: 0.9223\n",
            "Epoch 5/101\n",
            "219/219 [==============================] - 0s 1ms/step - loss: 0.3701 - accuracy: 0.9229\n",
            "Epoch 6/101\n",
            "219/219 [==============================] - 0s 1ms/step - loss: 0.2931 - accuracy: 0.9307\n",
            "Epoch 7/101\n",
            "219/219 [==============================] - 0s 1ms/step - loss: 0.2490 - accuracy: 0.9247\n",
            "Epoch 8/101\n",
            "219/219 [==============================] - 0s 1ms/step - loss: 0.2188 - accuracy: 0.9286\n",
            "Epoch 9/101\n",
            "219/219 [==============================] - 0s 1ms/step - loss: 0.2060 - accuracy: 0.9288\n",
            "Epoch 10/101\n",
            "219/219 [==============================] - 0s 1ms/step - loss: 0.1941 - accuracy: 0.9312\n",
            "Epoch 11/101\n",
            "219/219 [==============================] - 0s 1ms/step - loss: 0.1934 - accuracy: 0.9291\n",
            "Epoch 12/101\n",
            "219/219 [==============================] - 0s 1ms/step - loss: 0.1941 - accuracy: 0.9270\n",
            "Epoch 13/101\n",
            "219/219 [==============================] - 0s 1ms/step - loss: 0.1935 - accuracy: 0.9226\n",
            "Epoch 14/101\n",
            "219/219 [==============================] - 0s 1ms/step - loss: 0.1928 - accuracy: 0.9229\n",
            "Epoch 15/101\n",
            "219/219 [==============================] - 0s 1ms/step - loss: 0.1870 - accuracy: 0.9232\n",
            "Epoch 16/101\n",
            "219/219 [==============================] - 0s 1ms/step - loss: 0.1800 - accuracy: 0.9263\n",
            "Epoch 17/101\n",
            "219/219 [==============================] - 0s 1ms/step - loss: 0.1866 - accuracy: 0.9247\n",
            "Epoch 18/101\n",
            "219/219 [==============================] - 0s 1ms/step - loss: 0.1861 - accuracy: 0.9257\n",
            "Epoch 19/101\n",
            "219/219 [==============================] - 0s 1ms/step - loss: 0.1818 - accuracy: 0.9278\n",
            "Epoch 20/101\n",
            "219/219 [==============================] - 0s 1ms/step - loss: 0.1836 - accuracy: 0.9283\n",
            "Epoch 21/101\n",
            "219/219 [==============================] - 0s 1ms/step - loss: 0.1849 - accuracy: 0.9267\n",
            "Epoch 22/101\n",
            "219/219 [==============================] - 0s 1ms/step - loss: 0.1847 - accuracy: 0.9227\n",
            "Epoch 23/101\n",
            "219/219 [==============================] - 0s 1ms/step - loss: 0.1770 - accuracy: 0.9295\n",
            "Epoch 24/101\n",
            "219/219 [==============================] - 0s 1ms/step - loss: 0.1854 - accuracy: 0.9239\n",
            "Epoch 25/101\n",
            "219/219 [==============================] - 0s 1ms/step - loss: 0.1851 - accuracy: 0.9245\n",
            "Epoch 26/101\n",
            "219/219 [==============================] - 0s 1ms/step - loss: 0.1803 - accuracy: 0.9264\n",
            "Epoch 27/101\n",
            "219/219 [==============================] - 0s 1ms/step - loss: 0.1758 - accuracy: 0.9282\n",
            "Epoch 28/101\n",
            "219/219 [==============================] - 0s 1ms/step - loss: 0.1841 - accuracy: 0.9237\n",
            "Epoch 29/101\n",
            "219/219 [==============================] - 0s 1ms/step - loss: 0.1855 - accuracy: 0.9248\n",
            "Epoch 30/101\n",
            "219/219 [==============================] - 0s 1ms/step - loss: 0.1872 - accuracy: 0.9234\n",
            "Epoch 31/101\n",
            "219/219 [==============================] - 0s 1ms/step - loss: 0.1768 - accuracy: 0.9304\n",
            "Epoch 32/101\n",
            "219/219 [==============================] - 0s 1ms/step - loss: 0.1741 - accuracy: 0.9297\n",
            "Epoch 33/101\n",
            "219/219 [==============================] - 0s 1ms/step - loss: 0.1837 - accuracy: 0.9244\n",
            "Epoch 34/101\n",
            "219/219 [==============================] - 0s 1ms/step - loss: 0.1754 - accuracy: 0.9269\n",
            "Epoch 35/101\n",
            "219/219 [==============================] - 0s 1ms/step - loss: 0.1832 - accuracy: 0.9271\n",
            "Epoch 36/101\n",
            "219/219 [==============================] - 0s 1ms/step - loss: 0.1785 - accuracy: 0.9237\n",
            "Epoch 37/101\n",
            "219/219 [==============================] - 0s 1ms/step - loss: 0.1849 - accuracy: 0.9243\n",
            "Epoch 38/101\n",
            "219/219 [==============================] - 0s 1ms/step - loss: 0.1767 - accuracy: 0.9323\n",
            "Epoch 39/101\n",
            "219/219 [==============================] - 0s 1ms/step - loss: 0.1698 - accuracy: 0.9325\n",
            "Epoch 40/101\n",
            "219/219 [==============================] - 0s 1ms/step - loss: 0.1792 - accuracy: 0.9229\n",
            "Epoch 41/101\n",
            "219/219 [==============================] - 0s 1ms/step - loss: 0.1867 - accuracy: 0.9258\n",
            "Epoch 42/101\n",
            "219/219 [==============================] - 0s 1ms/step - loss: 0.1738 - accuracy: 0.9300\n",
            "Epoch 43/101\n",
            "219/219 [==============================] - 0s 1ms/step - loss: 0.1863 - accuracy: 0.9215\n",
            "Epoch 44/101\n",
            "219/219 [==============================] - 0s 1ms/step - loss: 0.1750 - accuracy: 0.9275\n",
            "Epoch 45/101\n",
            "219/219 [==============================] - 0s 1ms/step - loss: 0.1908 - accuracy: 0.9221\n",
            "Epoch 46/101\n",
            "219/219 [==============================] - 0s 1ms/step - loss: 0.1590 - accuracy: 0.9375\n",
            "Epoch 47/101\n",
            "219/219 [==============================] - 0s 1ms/step - loss: 0.1780 - accuracy: 0.9289\n",
            "Epoch 48/101\n",
            "219/219 [==============================] - 0s 1ms/step - loss: 0.1813 - accuracy: 0.9249\n",
            "Epoch 49/101\n",
            "219/219 [==============================] - 0s 1ms/step - loss: 0.1742 - accuracy: 0.9288\n",
            "Epoch 50/101\n",
            "219/219 [==============================] - 0s 1ms/step - loss: 0.1723 - accuracy: 0.9309\n",
            "Epoch 51/101\n",
            "219/219 [==============================] - 0s 1ms/step - loss: 0.1735 - accuracy: 0.9302\n",
            "Epoch 52/101\n",
            "219/219 [==============================] - 0s 1ms/step - loss: 0.1902 - accuracy: 0.9192\n",
            "Epoch 53/101\n",
            "219/219 [==============================] - 0s 1ms/step - loss: 0.1799 - accuracy: 0.9287\n",
            "Epoch 54/101\n",
            "219/219 [==============================] - 0s 1ms/step - loss: 0.1758 - accuracy: 0.9266\n",
            "Epoch 55/101\n",
            "219/219 [==============================] - 0s 1ms/step - loss: 0.1779 - accuracy: 0.9291\n",
            "Epoch 56/101\n",
            "219/219 [==============================] - 0s 1ms/step - loss: 0.1864 - accuracy: 0.9231\n",
            "Epoch 57/101\n",
            "219/219 [==============================] - 0s 1ms/step - loss: 0.1838 - accuracy: 0.9250\n",
            "Epoch 58/101\n",
            "219/219 [==============================] - 0s 1ms/step - loss: 0.1853 - accuracy: 0.9241\n",
            "Epoch 59/101\n",
            "219/219 [==============================] - 0s 1ms/step - loss: 0.1759 - accuracy: 0.9300\n",
            "Epoch 60/101\n",
            "219/219 [==============================] - 0s 1ms/step - loss: 0.1810 - accuracy: 0.9272\n",
            "Epoch 61/101\n",
            "219/219 [==============================] - 0s 1ms/step - loss: 0.1758 - accuracy: 0.9295\n",
            "Epoch 62/101\n",
            "219/219 [==============================] - 0s 1ms/step - loss: 0.1823 - accuracy: 0.9249\n",
            "Epoch 63/101\n",
            "219/219 [==============================] - 0s 1ms/step - loss: 0.1803 - accuracy: 0.9264\n",
            "Epoch 64/101\n",
            "219/219 [==============================] - 0s 1ms/step - loss: 0.1754 - accuracy: 0.9290\n",
            "Epoch 65/101\n",
            "219/219 [==============================] - 0s 1ms/step - loss: 0.1735 - accuracy: 0.9266\n",
            "Epoch 66/101\n",
            "219/219 [==============================] - 0s 1ms/step - loss: 0.1804 - accuracy: 0.9269\n",
            "Epoch 67/101\n",
            "219/219 [==============================] - 0s 1ms/step - loss: 0.1745 - accuracy: 0.9297\n",
            "Epoch 68/101\n",
            "219/219 [==============================] - 0s 1ms/step - loss: 0.1789 - accuracy: 0.9280\n",
            "Epoch 69/101\n",
            "219/219 [==============================] - 0s 1ms/step - loss: 0.1765 - accuracy: 0.9292\n",
            "Epoch 70/101\n",
            "219/219 [==============================] - 0s 1ms/step - loss: 0.1791 - accuracy: 0.9256\n",
            "Epoch 71/101\n",
            "219/219 [==============================] - 0s 1ms/step - loss: 0.1782 - accuracy: 0.9254\n",
            "Epoch 72/101\n",
            "219/219 [==============================] - 0s 1ms/step - loss: 0.1768 - accuracy: 0.9259\n",
            "Epoch 73/101\n",
            "219/219 [==============================] - 0s 1ms/step - loss: 0.1742 - accuracy: 0.9284\n",
            "Epoch 74/101\n",
            "219/219 [==============================] - 0s 1ms/step - loss: 0.1688 - accuracy: 0.9343\n",
            "Epoch 75/101\n",
            "219/219 [==============================] - 0s 1ms/step - loss: 0.1792 - accuracy: 0.9262\n",
            "Epoch 76/101\n",
            "219/219 [==============================] - 0s 1ms/step - loss: 0.1824 - accuracy: 0.9264\n",
            "Epoch 77/101\n",
            "219/219 [==============================] - 0s 1ms/step - loss: 0.1820 - accuracy: 0.9235\n",
            "Epoch 78/101\n",
            "219/219 [==============================] - 0s 1ms/step - loss: 0.1834 - accuracy: 0.9252\n",
            "Epoch 79/101\n",
            "219/219 [==============================] - 0s 1ms/step - loss: 0.1778 - accuracy: 0.9250\n",
            "Epoch 80/101\n",
            "219/219 [==============================] - 0s 1ms/step - loss: 0.1715 - accuracy: 0.9312\n",
            "Epoch 81/101\n",
            "219/219 [==============================] - 0s 1ms/step - loss: 0.1767 - accuracy: 0.9265\n",
            "Epoch 82/101\n",
            "219/219 [==============================] - 0s 1ms/step - loss: 0.1766 - accuracy: 0.9279\n",
            "Epoch 83/101\n",
            "219/219 [==============================] - 0s 1ms/step - loss: 0.1712 - accuracy: 0.9299\n",
            "Epoch 84/101\n",
            "219/219 [==============================] - 0s 1ms/step - loss: 0.1847 - accuracy: 0.9218\n",
            "Epoch 85/101\n",
            "219/219 [==============================] - 0s 1ms/step - loss: 0.1750 - accuracy: 0.9260\n",
            "Epoch 86/101\n",
            "219/219 [==============================] - 0s 1ms/step - loss: 0.1677 - accuracy: 0.9311\n",
            "Epoch 87/101\n",
            "219/219 [==============================] - 0s 1ms/step - loss: 0.1851 - accuracy: 0.9237\n",
            "Epoch 88/101\n",
            "219/219 [==============================] - 0s 1ms/step - loss: 0.1797 - accuracy: 0.9264\n",
            "Epoch 89/101\n",
            "219/219 [==============================] - 0s 1ms/step - loss: 0.1720 - accuracy: 0.9277\n",
            "Epoch 90/101\n",
            "219/219 [==============================] - 0s 1ms/step - loss: 0.1748 - accuracy: 0.9271\n",
            "Epoch 91/101\n",
            "219/219 [==============================] - 0s 1ms/step - loss: 0.1616 - accuracy: 0.9347\n",
            "Epoch 92/101\n",
            "219/219 [==============================] - 0s 1ms/step - loss: 0.1713 - accuracy: 0.9289\n",
            "Epoch 93/101\n",
            "219/219 [==============================] - 0s 1ms/step - loss: 0.1799 - accuracy: 0.9239\n",
            "Epoch 94/101\n",
            "219/219 [==============================] - 0s 1ms/step - loss: 0.1833 - accuracy: 0.9251\n",
            "Epoch 95/101\n",
            "219/219 [==============================] - 0s 1ms/step - loss: 0.1772 - accuracy: 0.9271\n",
            "Epoch 96/101\n",
            "219/219 [==============================] - 0s 1ms/step - loss: 0.1767 - accuracy: 0.9296\n",
            "Epoch 97/101\n",
            "219/219 [==============================] - 0s 1ms/step - loss: 0.1779 - accuracy: 0.9267\n",
            "Epoch 98/101\n",
            "219/219 [==============================] - 0s 1ms/step - loss: 0.1725 - accuracy: 0.9332\n",
            "Epoch 99/101\n",
            "219/219 [==============================] - 0s 1ms/step - loss: 0.1662 - accuracy: 0.9327\n",
            "Epoch 100/101\n",
            "219/219 [==============================] - 0s 1ms/step - loss: 0.1743 - accuracy: 0.9282\n",
            "Epoch 101/101\n",
            "219/219 [==============================] - 0s 1ms/step - loss: 0.1778 - accuracy: 0.9286\n"
          ],
          "name": "stdout"
        },
        {
          "output_type": "execute_result",
          "data": {
            "text/plain": [
              "<keras.callbacks.History at 0x7f4adf5aaa10>"
            ]
          },
          "metadata": {
            "tags": []
          },
          "execution_count": 20
        }
      ]
    },
    {
      "cell_type": "code",
      "metadata": {
        "colab": {
          "base_uri": "https://localhost:8080/"
        },
        "id": "guiC617Qq2Cq",
        "outputId": "f0c92c85-03af-4b77-e8fc-aa37b93e4037"
      },
      "source": [
        "model.evaluate(x_test, y_test)"
      ],
      "execution_count": 21,
      "outputs": [
        {
          "output_type": "stream",
          "text": [
            "94/94 [==============================] - 1s 894us/step - loss: 0.1845 - accuracy: 0.9290\n"
          ],
          "name": "stdout"
        },
        {
          "output_type": "execute_result",
          "data": {
            "text/plain": [
              "[0.18449294567108154, 0.9290000200271606]"
            ]
          },
          "metadata": {
            "tags": []
          },
          "execution_count": 21
        }
      ]
    },
    {
      "cell_type": "code",
      "metadata": {
        "id": "8_cxp7yKrGnh"
      },
      "source": [
        ""
      ],
      "execution_count": null,
      "outputs": []
    }
  ]
}