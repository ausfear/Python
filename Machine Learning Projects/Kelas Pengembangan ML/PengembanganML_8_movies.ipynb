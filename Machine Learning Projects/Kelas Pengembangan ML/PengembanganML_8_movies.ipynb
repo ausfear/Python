{
  "nbformat": 4,
  "nbformat_minor": 0,
  "metadata": {
    "colab": {
      "name": "PengembanganML-8-movies.ipynb",
      "provenance": [],
      "authorship_tag": "ABX9TyMRYPQ0yRTT+ASK+uS4neqa",
      "include_colab_link": true
    },
    "kernelspec": {
      "name": "python3",
      "display_name": "Python 3"
    },
    "language_info": {
      "name": "python"
    }
  },
  "cells": [
    {
      "cell_type": "markdown",
      "metadata": {
        "id": "view-in-github",
        "colab_type": "text"
      },
      "source": [
        "<a href=\"https://colab.research.google.com/github/ausfear/Python/blob/main/Machine%20Learning%20Projects/Kelas%20Pengembangan%20ML/PengembanganML_8_movies.ipynb\" target=\"_parent\"><img src=\"https://colab.research.google.com/assets/colab-badge.svg\" alt=\"Open In Colab\"/></a>"
      ]
    },
    {
      "cell_type": "code",
      "metadata": {
        "id": "5yNmoiIqi6Dy"
      },
      "source": [
        "import pandas as pd"
      ],
      "execution_count": 1,
      "outputs": []
    },
    {
      "cell_type": "code",
      "metadata": {
        "colab": {
          "base_uri": "https://localhost:8080/",
          "height": 203
        },
        "id": "L1IGY_qfjDrh",
        "outputId": "4799b7fe-1420-4e89-fc3a-1cfaa2fcf7a0"
      },
      "source": [
        "df = pd.read_csv('/content/imdb_indonesian_movies_2.csv')\n",
        "df.head()"
      ],
      "execution_count": 2,
      "outputs": [
        {
          "output_type": "execute_result",
          "data": {
            "text/html": [
              "<div>\n",
              "<style scoped>\n",
              "    .dataframe tbody tr th:only-of-type {\n",
              "        vertical-align: middle;\n",
              "    }\n",
              "\n",
              "    .dataframe tbody tr th {\n",
              "        vertical-align: top;\n",
              "    }\n",
              "\n",
              "    .dataframe thead th {\n",
              "        text-align: right;\n",
              "    }\n",
              "</style>\n",
              "<table border=\"1\" class=\"dataframe\">\n",
              "  <thead>\n",
              "    <tr style=\"text-align: right;\">\n",
              "      <th></th>\n",
              "      <th>judul_film</th>\n",
              "      <th>ringkasan_sinopsis</th>\n",
              "      <th>genre</th>\n",
              "    </tr>\n",
              "  </thead>\n",
              "  <tbody>\n",
              "    <tr>\n",
              "      <th>0</th>\n",
              "      <td>Sunan Kalijaga</td>\n",
              "      <td>Raden Mas Said putra sulung Tumenggung Wilarik...</td>\n",
              "      <td>Drama</td>\n",
              "    </tr>\n",
              "    <tr>\n",
              "      <th>1</th>\n",
              "      <td>Gie</td>\n",
              "      <td>Soe Hok Gie adalah seorang aktivis yang hidup ...</td>\n",
              "      <td>Drama</td>\n",
              "    </tr>\n",
              "    <tr>\n",
              "      <th>2</th>\n",
              "      <td>Guru Bangsa Tjokroaminoto</td>\n",
              "      <td>Guru Bangsa Tjokroaminoto menceritakan tentang...</td>\n",
              "      <td>Drama</td>\n",
              "    </tr>\n",
              "    <tr>\n",
              "      <th>3</th>\n",
              "      <td>POL Movie</td>\n",
              "      <td>POL menceritakan kisah hidup yang luar biasa d...</td>\n",
              "      <td>Drama</td>\n",
              "    </tr>\n",
              "    <tr>\n",
              "      <th>4</th>\n",
              "      <td>Sang pencerah</td>\n",
              "      <td>Perjalanan pahlawan Indonesia KH Ahmad Dahlan ...</td>\n",
              "      <td>Drama</td>\n",
              "    </tr>\n",
              "  </tbody>\n",
              "</table>\n",
              "</div>"
            ],
            "text/plain": [
              "                  judul_film  ...  genre\n",
              "0             Sunan Kalijaga  ...  Drama\n",
              "1                        Gie  ...  Drama\n",
              "2  Guru Bangsa Tjokroaminoto  ...  Drama\n",
              "3                  POL Movie  ...  Drama\n",
              "4              Sang pencerah  ...  Drama\n",
              "\n",
              "[5 rows x 3 columns]"
            ]
          },
          "metadata": {
            "tags": []
          },
          "execution_count": 2
        }
      ]
    },
    {
      "cell_type": "code",
      "metadata": {
        "colab": {
          "base_uri": "https://localhost:8080/",
          "height": 203
        },
        "id": "xVH5dcfqjI1Q",
        "outputId": "c887d1b7-5b33-4103-e478-51b3f6bd919a"
      },
      "source": [
        "df = df.drop(columns=['judul_film'])\n",
        "df.head()"
      ],
      "execution_count": 3,
      "outputs": [
        {
          "output_type": "execute_result",
          "data": {
            "text/html": [
              "<div>\n",
              "<style scoped>\n",
              "    .dataframe tbody tr th:only-of-type {\n",
              "        vertical-align: middle;\n",
              "    }\n",
              "\n",
              "    .dataframe tbody tr th {\n",
              "        vertical-align: top;\n",
              "    }\n",
              "\n",
              "    .dataframe thead th {\n",
              "        text-align: right;\n",
              "    }\n",
              "</style>\n",
              "<table border=\"1\" class=\"dataframe\">\n",
              "  <thead>\n",
              "    <tr style=\"text-align: right;\">\n",
              "      <th></th>\n",
              "      <th>ringkasan_sinopsis</th>\n",
              "      <th>genre</th>\n",
              "    </tr>\n",
              "  </thead>\n",
              "  <tbody>\n",
              "    <tr>\n",
              "      <th>0</th>\n",
              "      <td>Raden Mas Said putra sulung Tumenggung Wilarik...</td>\n",
              "      <td>Drama</td>\n",
              "    </tr>\n",
              "    <tr>\n",
              "      <th>1</th>\n",
              "      <td>Soe Hok Gie adalah seorang aktivis yang hidup ...</td>\n",
              "      <td>Drama</td>\n",
              "    </tr>\n",
              "    <tr>\n",
              "      <th>2</th>\n",
              "      <td>Guru Bangsa Tjokroaminoto menceritakan tentang...</td>\n",
              "      <td>Drama</td>\n",
              "    </tr>\n",
              "    <tr>\n",
              "      <th>3</th>\n",
              "      <td>POL menceritakan kisah hidup yang luar biasa d...</td>\n",
              "      <td>Drama</td>\n",
              "    </tr>\n",
              "    <tr>\n",
              "      <th>4</th>\n",
              "      <td>Perjalanan pahlawan Indonesia KH Ahmad Dahlan ...</td>\n",
              "      <td>Drama</td>\n",
              "    </tr>\n",
              "  </tbody>\n",
              "</table>\n",
              "</div>"
            ],
            "text/plain": [
              "                                  ringkasan_sinopsis  genre\n",
              "0  Raden Mas Said putra sulung Tumenggung Wilarik...  Drama\n",
              "1  Soe Hok Gie adalah seorang aktivis yang hidup ...  Drama\n",
              "2  Guru Bangsa Tjokroaminoto menceritakan tentang...  Drama\n",
              "3  POL menceritakan kisah hidup yang luar biasa d...  Drama\n",
              "4  Perjalanan pahlawan Indonesia KH Ahmad Dahlan ...  Drama"
            ]
          },
          "metadata": {
            "tags": []
          },
          "execution_count": 3
        }
      ]
    },
    {
      "cell_type": "code",
      "metadata": {
        "colab": {
          "base_uri": "https://localhost:8080/",
          "height": 417
        },
        "id": "Ax5d3yKqjZ6I",
        "outputId": "73422d75-3cf5-427f-e827-ab305256d484"
      },
      "source": [
        "category = pd.get_dummies(df.genre)\n",
        "df_baru = pd.concat([df, category], axis=1)\n",
        "df_baru = df_baru.drop(columns=['genre'])\n",
        "df_baru"
      ],
      "execution_count": 4,
      "outputs": [
        {
          "output_type": "execute_result",
          "data": {
            "text/html": [
              "<div>\n",
              "<style scoped>\n",
              "    .dataframe tbody tr th:only-of-type {\n",
              "        vertical-align: middle;\n",
              "    }\n",
              "\n",
              "    .dataframe tbody tr th {\n",
              "        vertical-align: top;\n",
              "    }\n",
              "\n",
              "    .dataframe thead th {\n",
              "        text-align: right;\n",
              "    }\n",
              "</style>\n",
              "<table border=\"1\" class=\"dataframe\">\n",
              "  <thead>\n",
              "    <tr style=\"text-align: right;\">\n",
              "      <th></th>\n",
              "      <th>ringkasan_sinopsis</th>\n",
              "      <th>Drama</th>\n",
              "      <th>Horor</th>\n",
              "      <th>Komedi</th>\n",
              "      <th>Laga</th>\n",
              "      <th>Romantis</th>\n",
              "    </tr>\n",
              "  </thead>\n",
              "  <tbody>\n",
              "    <tr>\n",
              "      <th>0</th>\n",
              "      <td>Raden Mas Said putra sulung Tumenggung Wilarik...</td>\n",
              "      <td>1</td>\n",
              "      <td>0</td>\n",
              "      <td>0</td>\n",
              "      <td>0</td>\n",
              "      <td>0</td>\n",
              "    </tr>\n",
              "    <tr>\n",
              "      <th>1</th>\n",
              "      <td>Soe Hok Gie adalah seorang aktivis yang hidup ...</td>\n",
              "      <td>1</td>\n",
              "      <td>0</td>\n",
              "      <td>0</td>\n",
              "      <td>0</td>\n",
              "      <td>0</td>\n",
              "    </tr>\n",
              "    <tr>\n",
              "      <th>2</th>\n",
              "      <td>Guru Bangsa Tjokroaminoto menceritakan tentang...</td>\n",
              "      <td>1</td>\n",
              "      <td>0</td>\n",
              "      <td>0</td>\n",
              "      <td>0</td>\n",
              "      <td>0</td>\n",
              "    </tr>\n",
              "    <tr>\n",
              "      <th>3</th>\n",
              "      <td>POL menceritakan kisah hidup yang luar biasa d...</td>\n",
              "      <td>1</td>\n",
              "      <td>0</td>\n",
              "      <td>0</td>\n",
              "      <td>0</td>\n",
              "      <td>0</td>\n",
              "    </tr>\n",
              "    <tr>\n",
              "      <th>4</th>\n",
              "      <td>Perjalanan pahlawan Indonesia KH Ahmad Dahlan ...</td>\n",
              "      <td>1</td>\n",
              "      <td>0</td>\n",
              "      <td>0</td>\n",
              "      <td>0</td>\n",
              "      <td>0</td>\n",
              "    </tr>\n",
              "    <tr>\n",
              "      <th>...</th>\n",
              "      <td>...</td>\n",
              "      <td>...</td>\n",
              "      <td>...</td>\n",
              "      <td>...</td>\n",
              "      <td>...</td>\n",
              "      <td>...</td>\n",
              "    </tr>\n",
              "    <tr>\n",
              "      <th>1000</th>\n",
              "      <td>Winter in Tokyo berpusat pada kehidupan Ishida...</td>\n",
              "      <td>0</td>\n",
              "      <td>0</td>\n",
              "      <td>0</td>\n",
              "      <td>0</td>\n",
              "      <td>1</td>\n",
              "    </tr>\n",
              "    <tr>\n",
              "      <th>1001</th>\n",
              "      <td>Markonah melarikan diri ke Jakarta karena akan...</td>\n",
              "      <td>0</td>\n",
              "      <td>0</td>\n",
              "      <td>0</td>\n",
              "      <td>0</td>\n",
              "      <td>1</td>\n",
              "    </tr>\n",
              "    <tr>\n",
              "      <th>1002</th>\n",
              "      <td>Tempat aking lebih dari 36 jam, Last Night ada...</td>\n",
              "      <td>0</td>\n",
              "      <td>0</td>\n",
              "      <td>0</td>\n",
              "      <td>0</td>\n",
              "      <td>1</td>\n",
              "    </tr>\n",
              "    <tr>\n",
              "      <th>1003</th>\n",
              "      <td>Proyek baru ini adalah tentang seorang lelaki ...</td>\n",
              "      <td>0</td>\n",
              "      <td>0</td>\n",
              "      <td>0</td>\n",
              "      <td>0</td>\n",
              "      <td>1</td>\n",
              "    </tr>\n",
              "    <tr>\n",
              "      <th>1004</th>\n",
              "      <td>Atika (Meriam Bellina) mantan penyanyi tenar, ...</td>\n",
              "      <td>0</td>\n",
              "      <td>0</td>\n",
              "      <td>0</td>\n",
              "      <td>0</td>\n",
              "      <td>1</td>\n",
              "    </tr>\n",
              "  </tbody>\n",
              "</table>\n",
              "<p>1005 rows × 6 columns</p>\n",
              "</div>"
            ],
            "text/plain": [
              "                                     ringkasan_sinopsis  Drama  ...  Laga  Romantis\n",
              "0     Raden Mas Said putra sulung Tumenggung Wilarik...      1  ...     0         0\n",
              "1     Soe Hok Gie adalah seorang aktivis yang hidup ...      1  ...     0         0\n",
              "2     Guru Bangsa Tjokroaminoto menceritakan tentang...      1  ...     0         0\n",
              "3     POL menceritakan kisah hidup yang luar biasa d...      1  ...     0         0\n",
              "4     Perjalanan pahlawan Indonesia KH Ahmad Dahlan ...      1  ...     0         0\n",
              "...                                                 ...    ...  ...   ...       ...\n",
              "1000  Winter in Tokyo berpusat pada kehidupan Ishida...      0  ...     0         1\n",
              "1001  Markonah melarikan diri ke Jakarta karena akan...      0  ...     0         1\n",
              "1002  Tempat aking lebih dari 36 jam, Last Night ada...      0  ...     0         1\n",
              "1003  Proyek baru ini adalah tentang seorang lelaki ...      0  ...     0         1\n",
              "1004  Atika (Meriam Bellina) mantan penyanyi tenar, ...      0  ...     0         1\n",
              "\n",
              "[1005 rows x 6 columns]"
            ]
          },
          "metadata": {
            "tags": []
          },
          "execution_count": 4
        }
      ]
    },
    {
      "cell_type": "code",
      "metadata": {
        "id": "XWQ5NhfEj0Tw"
      },
      "source": [
        "sinopsis = df_baru['ringkasan_sinopsis'].values\n",
        "label = df_baru[['Drama', 'Horor', 'Komedi', 'Laga', 'Romantis']].values"
      ],
      "execution_count": 5,
      "outputs": []
    },
    {
      "cell_type": "code",
      "metadata": {
        "id": "TAXchxmqkKmZ"
      },
      "source": [
        "from sklearn.model_selection import train_test_split\n",
        "\n",
        "sinopsis_train, sinopsis_test, label_train, label_test = train_test_split(sinopsis, label, test_size=0.2)"
      ],
      "execution_count": 6,
      "outputs": []
    },
    {
      "cell_type": "code",
      "metadata": {
        "id": "m3atqKYmkUAg"
      },
      "source": [
        "from tensorflow.keras.preprocessing.text import Tokenizer\n",
        "from tensorflow.keras.preprocessing.sequence import pad_sequences\n",
        "\n",
        "tokenizer = Tokenizer(num_words=5000, oov_token='x')\n",
        "tokenizer.fit_on_texts(sinopsis_train)\n",
        "tokenizer.fit_on_texts(sinopsis_test)\n",
        "\n",
        "sequence_train = tokenizer.texts_to_sequences(sinopsis_train)\n",
        "sequence_test = tokenizer.texts_to_sequences(sinopsis_test)\n",
        "\n",
        "padded_train = pad_sequences(sequence_train)\n",
        "padded_test = pad_sequences(sequence_test)"
      ],
      "execution_count": 7,
      "outputs": []
    },
    {
      "cell_type": "code",
      "metadata": {
        "id": "mQFLGkK_lUFs"
      },
      "source": [
        "import tensorflow as tf\n",
        "model = tf.keras.Sequential([\n",
        "    tf.keras.layers.Embedding(input_dim=5000, output_dim=16),\n",
        "    tf.keras.layers.LSTM(64),\n",
        "    tf.keras.layers.Dense(128, activation='relu'),\n",
        "    tf.keras.layers.Dense(64, activation='relu'),\n",
        "    tf.keras.layers.Dense(5, activation='softmax')\n",
        "])\n",
        "model.compile(loss='categorical_crossentropy',optimizer='adam',metrics=['accuracy'])"
      ],
      "execution_count": 8,
      "outputs": []
    },
    {
      "cell_type": "code",
      "metadata": {
        "colab": {
          "base_uri": "https://localhost:8080/"
        },
        "id": "rgnRViqGmHQ4",
        "outputId": "a5a002d9-4824-46f7-bb91-9551e47cf370"
      },
      "source": [
        "num_epochs = 30\n",
        "history = model.fit(padded_train, label_train, epochs=num_epochs, \n",
        "                    validation_data=(padded_test, label_test), verbose=2)"
      ],
      "execution_count": 9,
      "outputs": [
        {
          "output_type": "stream",
          "text": [
            "Epoch 1/30\n",
            "26/26 - 30s - loss: 1.6105 - accuracy: 0.1915 - val_loss: 1.6093 - val_accuracy: 0.2488\n",
            "Epoch 2/30\n",
            "26/26 - 27s - loss: 1.6075 - accuracy: 0.2102 - val_loss: 1.6099 - val_accuracy: 0.1741\n",
            "Epoch 3/30\n",
            "26/26 - 27s - loss: 1.5908 - accuracy: 0.3333 - val_loss: 1.6082 - val_accuracy: 0.2189\n",
            "Epoch 4/30\n",
            "26/26 - 27s - loss: 1.4294 - accuracy: 0.4664 - val_loss: 1.6409 - val_accuracy: 0.2090\n",
            "Epoch 5/30\n",
            "26/26 - 27s - loss: 1.0029 - accuracy: 0.6032 - val_loss: 1.7086 - val_accuracy: 0.2736\n",
            "Epoch 6/30\n",
            "26/26 - 27s - loss: 0.6646 - accuracy: 0.7736 - val_loss: 2.0432 - val_accuracy: 0.3284\n",
            "Epoch 7/30\n",
            "26/26 - 27s - loss: 0.4334 - accuracy: 0.8619 - val_loss: 2.4770 - val_accuracy: 0.3284\n",
            "Epoch 8/30\n",
            "26/26 - 27s - loss: 0.2093 - accuracy: 0.9353 - val_loss: 2.8372 - val_accuracy: 0.2935\n",
            "Epoch 9/30\n",
            "26/26 - 27s - loss: 0.0736 - accuracy: 0.9888 - val_loss: 3.4264 - val_accuracy: 0.2935\n",
            "Epoch 10/30\n",
            "26/26 - 27s - loss: 0.0469 - accuracy: 0.9888 - val_loss: 3.7738 - val_accuracy: 0.3184\n",
            "Epoch 11/30\n",
            "26/26 - 27s - loss: 0.2201 - accuracy: 0.9328 - val_loss: 2.9067 - val_accuracy: 0.2637\n",
            "Epoch 12/30\n",
            "26/26 - 27s - loss: 0.1304 - accuracy: 0.9751 - val_loss: 3.1783 - val_accuracy: 0.2886\n",
            "Epoch 13/30\n",
            "26/26 - 27s - loss: 0.0404 - accuracy: 0.9963 - val_loss: 3.6668 - val_accuracy: 0.2886\n",
            "Epoch 14/30\n",
            "26/26 - 27s - loss: 0.0261 - accuracy: 0.9963 - val_loss: 3.7918 - val_accuracy: 0.3085\n",
            "Epoch 15/30\n",
            "26/26 - 27s - loss: 0.0159 - accuracy: 0.9963 - val_loss: 4.0581 - val_accuracy: 0.3134\n",
            "Epoch 16/30\n",
            "26/26 - 27s - loss: 0.0136 - accuracy: 0.9975 - val_loss: 3.9127 - val_accuracy: 0.3284\n",
            "Epoch 17/30\n",
            "26/26 - 27s - loss: 0.0121 - accuracy: 0.9975 - val_loss: 4.1041 - val_accuracy: 0.3134\n",
            "Epoch 18/30\n",
            "26/26 - 27s - loss: 0.0104 - accuracy: 0.9988 - val_loss: 4.2966 - val_accuracy: 0.3184\n",
            "Epoch 19/30\n",
            "26/26 - 27s - loss: 0.0092 - accuracy: 0.9975 - val_loss: 4.4115 - val_accuracy: 0.3085\n",
            "Epoch 20/30\n",
            "26/26 - 27s - loss: 0.0075 - accuracy: 0.9988 - val_loss: 4.4134 - val_accuracy: 0.3184\n",
            "Epoch 21/30\n",
            "26/26 - 27s - loss: 0.0099 - accuracy: 0.9975 - val_loss: 4.4928 - val_accuracy: 0.3184\n",
            "Epoch 22/30\n",
            "26/26 - 27s - loss: 0.0076 - accuracy: 0.9988 - val_loss: 4.5772 - val_accuracy: 0.3134\n",
            "Epoch 23/30\n",
            "26/26 - 27s - loss: 0.0089 - accuracy: 0.9988 - val_loss: 4.6266 - val_accuracy: 0.3284\n",
            "Epoch 24/30\n",
            "26/26 - 27s - loss: 0.0104 - accuracy: 0.9975 - val_loss: 4.6149 - val_accuracy: 0.3234\n",
            "Epoch 25/30\n",
            "26/26 - 27s - loss: 0.0083 - accuracy: 0.9975 - val_loss: 4.6083 - val_accuracy: 0.3383\n",
            "Epoch 26/30\n",
            "26/26 - 26s - loss: 0.0071 - accuracy: 0.9988 - val_loss: 4.7671 - val_accuracy: 0.3085\n",
            "Epoch 27/30\n",
            "26/26 - 27s - loss: 0.0068 - accuracy: 0.9975 - val_loss: 4.7547 - val_accuracy: 0.3284\n",
            "Epoch 28/30\n",
            "26/26 - 26s - loss: 0.0046 - accuracy: 0.9988 - val_loss: 4.8485 - val_accuracy: 0.3184\n",
            "Epoch 29/30\n",
            "26/26 - 26s - loss: 0.0064 - accuracy: 0.9975 - val_loss: 4.9078 - val_accuracy: 0.3284\n",
            "Epoch 30/30\n",
            "26/26 - 27s - loss: 0.0055 - accuracy: 0.9975 - val_loss: 4.9870 - val_accuracy: 0.3134\n"
          ],
          "name": "stdout"
        }
      ]
    },
    {
      "cell_type": "code",
      "metadata": {
        "colab": {
          "base_uri": "https://localhost:8080/",
          "height": 297
        },
        "id": "YcnTzLGXmv8Q",
        "outputId": "200571a7-9b76-4e18-f31f-397764f3f3e0"
      },
      "source": [
        "import matplotlib.pyplot as plt\n",
        "\n",
        "plt.subplot(211)\n",
        "plt.plot(history.history['accuracy'])\n",
        "plt.plot(history.history['loss'])\n",
        "plt.title('Training')\n",
        "plt.ylabel('Value')\n",
        "plt.xlabel('Epoch')\n",
        "plt.legend(['accuracy', 'loss'])\n",
        "\n",
        "plt.subplot(212)\n",
        "plt.plot(history.history['val_accuracy'])\n",
        "plt.plot(history.history['val_loss'])\n",
        "plt.title('Test')\n",
        "plt.ylabel('Value')\n",
        "plt.xlabel('Epoch')\n",
        "plt.legend(['val_accuracy', 'val_loss'])\n",
        "\n",
        "plt.tight_layout()\n",
        "plt.show()"
      ],
      "execution_count": 11,
      "outputs": [
        {
          "output_type": "display_data",
          "data": {
            "image/png": "[encoded data removed]",
            "text/plain": [
              "<Figure size 432x288 with 2 Axes>"
            ]
          },
          "metadata": {
            "tags": [],
            "needs_background": "light"
          }
        }
      ]
    },
    {
      "cell_type": "code",
      "metadata": {
        "id": "xpMxGtsyqgVq"
      },
      "source": [
        ""
      ],
      "execution_count": null,
      "outputs": []
    }
  ]
}