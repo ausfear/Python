{
  "nbformat": 4,
  "nbformat_minor": 0,
  "metadata": {
    "colab": {
      "name": "PengembanganML-7-yelp.ipynb",
      "provenance": [],
      "authorship_tag": "ABX9TyPhr9DAQPp9sQhR9jL5wKOh",
      "include_colab_link": true
    },
    "kernelspec": {
      "name": "python3",
      "display_name": "Python 3"
    },
    "language_info": {
      "name": "python"
    }
  },
  "cells": [
    {
      "cell_type": "markdown",
      "metadata": {
        "id": "view-in-github",
        "colab_type": "text"
      },
      "source": [
        "<a href=\"https://colab.research.google.com/github/ausfear/Python/blob/main/Machine%20Learning%20Projects/Kelas%20Pengembangan%20ML/PengembanganML_7_yelp.ipynb\" target=\"_parent\"><img src=\"https://colab.research.google.com/assets/colab-badge.svg\" alt=\"Open In Colab\"/></a>"
      ]
    },
    {
      "cell_type": "code",
      "metadata": {
        "id": "9mRnjyDWbbUK"
      },
      "source": [
        "import pandas as pd"
      ],
      "execution_count": 1,
      "outputs": []
    },
    {
      "cell_type": "code",
      "metadata": {
        "colab": {
          "base_uri": "https://localhost:8080/",
          "height": 203
        },
        "id": "nXWSdGu7cWSs",
        "outputId": "2d809ee3-5cde-4dff-ea42-5d0be37ea6ef"
      },
      "source": [
        "df = pd.read_csv('/content/yelp_labelled.txt', names=['sentences', 'label'], sep='\\t')\n",
        "df.head()"
      ],
      "execution_count": 4,
      "outputs": [
        {
          "output_type": "execute_result",
          "data": {
            "text/html": [
              "<div>\n",
              "<style scoped>\n",
              "    .dataframe tbody tr th:only-of-type {\n",
              "        vertical-align: middle;\n",
              "    }\n",
              "\n",
              "    .dataframe tbody tr th {\n",
              "        vertical-align: top;\n",
              "    }\n",
              "\n",
              "    .dataframe thead th {\n",
              "        text-align: right;\n",
              "    }\n",
              "</style>\n",
              "<table border=\"1\" class=\"dataframe\">\n",
              "  <thead>\n",
              "    <tr style=\"text-align: right;\">\n",
              "      <th></th>\n",
              "      <th>sentences</th>\n",
              "      <th>label</th>\n",
              "    </tr>\n",
              "  </thead>\n",
              "  <tbody>\n",
              "    <tr>\n",
              "      <th>0</th>\n",
              "      <td>Wow... Loved this place.</td>\n",
              "      <td>1</td>\n",
              "    </tr>\n",
              "    <tr>\n",
              "      <th>1</th>\n",
              "      <td>Crust is not good.</td>\n",
              "      <td>0</td>\n",
              "    </tr>\n",
              "    <tr>\n",
              "      <th>2</th>\n",
              "      <td>Not tasty and the texture was just nasty.</td>\n",
              "      <td>0</td>\n",
              "    </tr>\n",
              "    <tr>\n",
              "      <th>3</th>\n",
              "      <td>Stopped by during the late May bank holiday of...</td>\n",
              "      <td>1</td>\n",
              "    </tr>\n",
              "    <tr>\n",
              "      <th>4</th>\n",
              "      <td>The selection on the menu was great and so wer...</td>\n",
              "      <td>1</td>\n",
              "    </tr>\n",
              "  </tbody>\n",
              "</table>\n",
              "</div>"
            ],
            "text/plain": [
              "                                           sentences  label\n",
              "0                           Wow... Loved this place.      1\n",
              "1                                 Crust is not good.      0\n",
              "2          Not tasty and the texture was just nasty.      0\n",
              "3  Stopped by during the late May bank holiday of...      1\n",
              "4  The selection on the menu was great and so wer...      1"
            ]
          },
          "metadata": {
            "tags": []
          },
          "execution_count": 4
        }
      ]
    },
    {
      "cell_type": "code",
      "metadata": {
        "id": "xS009Kcgcrra"
      },
      "source": [
        "from sklearn.model_selection import train_test_split\n",
        "\n",
        "sentence = df['sentences'].values\n",
        "label = df['label'].values\n",
        "sentence_train, sentence_test, label_train, label_test = train_test_split(sentence, label, test_size=0.2)"
      ],
      "execution_count": 5,
      "outputs": []
    },
    {
      "cell_type": "code",
      "metadata": {
        "id": "WVwDyCPedypr"
      },
      "source": [
        "from tensorflow.keras.preprocessing.text import Tokenizer\n",
        "from tensorflow.keras.preprocessing.sequence import pad_sequences\n",
        "\n",
        "tokenizer = Tokenizer(num_words=250, oov_token='x')\n",
        "tokenizer.fit_on_texts(sentence_train)\n",
        "tokenizer.fit_on_texts(sentence_test)\n",
        "\n",
        "sequence_train = tokenizer.texts_to_sequences(sentence_train)\n",
        "sequence_test = tokenizer.texts_to_sequences(sentence_test)\n",
        "\n",
        "padded_train = pad_sequences(sequence_train)\n",
        "padded_test = pad_sequences(sequence_test)\n"
      ],
      "execution_count": 7,
      "outputs": []
    },
    {
      "cell_type": "code",
      "metadata": {
        "id": "r-6jXxerepUU"
      },
      "source": [
        "import tensorflow as tf\n",
        "\n",
        "model = tf.keras.Sequential([\n",
        "                             tf.keras.layers.Embedding(250, 16, input_length=20),\n",
        "                             tf.keras.layers.GlobalAveragePooling1D(),\n",
        "                             tf.keras.layers.Dense(24, activation='relu'),\n",
        "                             tf.keras.layers.Dense(1, activation='sigmoid')\n",
        "])"
      ],
      "execution_count": 8,
      "outputs": []
    },
    {
      "cell_type": "code",
      "metadata": {
        "id": "QOhn3eE0fkYl"
      },
      "source": [
        "model.compile(optimizer='Adam',\n",
        "              loss='binary_crossentropy',\n",
        "              metrics=['accuracy'])"
      ],
      "execution_count": 9,
      "outputs": []
    },
    {
      "cell_type": "code",
      "metadata": {
        "colab": {
          "base_uri": "https://localhost:8080/"
        },
        "id": "eTK9lhvifvxR",
        "outputId": "3be99004-6f3a-4c82-abc3-d076bfc4a00f"
      },
      "source": [
        "training = model.fit(padded_train, label_train, epochs=25, validation_data=(padded_test, label_test), verbose=2)"
      ],
      "execution_count": 10,
      "outputs": [
        {
          "output_type": "stream",
          "text": [
            "Epoch 1/25\n",
            "WARNING:tensorflow:Model was constructed with shape (None, 20) for input KerasTensor(type_spec=TensorSpec(shape=(None, 20), dtype=tf.float32, name='embedding_input'), name='embedding_input', description=\"created by layer 'embedding_input'\"), but it was called on an input with incompatible shape (32, 32).\n",
            "WARNING:tensorflow:Model was constructed with shape (None, 20) for input KerasTensor(type_spec=TensorSpec(shape=(None, 20), dtype=tf.float32, name='embedding_input'), name='embedding_input', description=\"created by layer 'embedding_input'\"), but it was called on an input with incompatible shape (32, 32).\n",
            "WARNING:tensorflow:Model was constructed with shape (None, 20) for input KerasTensor(type_spec=TensorSpec(shape=(None, 20), dtype=tf.float32, name='embedding_input'), name='embedding_input', description=\"created by layer 'embedding_input'\"), but it was called on an input with incompatible shape (None, 31).\n",
            "25/25 - 1s - loss: 0.6928 - accuracy: 0.5075 - val_loss: 0.6920 - val_accuracy: 0.6000\n",
            "Epoch 2/25\n",
            "25/25 - 0s - loss: 0.6915 - accuracy: 0.5900 - val_loss: 0.6907 - val_accuracy: 0.6450\n",
            "Epoch 3/25\n",
            "25/25 - 0s - loss: 0.6897 - accuracy: 0.6463 - val_loss: 0.6885 - val_accuracy: 0.6800\n",
            "Epoch 4/25\n",
            "25/25 - 0s - loss: 0.6862 - accuracy: 0.6687 - val_loss: 0.6840 - val_accuracy: 0.6650\n",
            "Epoch 5/25\n",
            "25/25 - 0s - loss: 0.6802 - accuracy: 0.6413 - val_loss: 0.6776 - val_accuracy: 0.6600\n",
            "Epoch 6/25\n",
            "25/25 - 0s - loss: 0.6716 - accuracy: 0.6850 - val_loss: 0.6694 - val_accuracy: 0.7250\n",
            "Epoch 7/25\n",
            "25/25 - 0s - loss: 0.6597 - accuracy: 0.6850 - val_loss: 0.6572 - val_accuracy: 0.6950\n",
            "Epoch 8/25\n",
            "25/25 - 0s - loss: 0.6441 - accuracy: 0.7188 - val_loss: 0.6427 - val_accuracy: 0.6850\n",
            "Epoch 9/25\n",
            "25/25 - 0s - loss: 0.6254 - accuracy: 0.7300 - val_loss: 0.6261 - val_accuracy: 0.7350\n",
            "Epoch 10/25\n",
            "25/25 - 0s - loss: 0.6032 - accuracy: 0.7575 - val_loss: 0.6075 - val_accuracy: 0.7500\n",
            "Epoch 11/25\n",
            "25/25 - 0s - loss: 0.5783 - accuracy: 0.7638 - val_loss: 0.5885 - val_accuracy: 0.7550\n",
            "Epoch 12/25\n",
            "25/25 - 0s - loss: 0.5527 - accuracy: 0.7850 - val_loss: 0.5699 - val_accuracy: 0.7900\n",
            "Epoch 13/25\n",
            "25/25 - 0s - loss: 0.5275 - accuracy: 0.8000 - val_loss: 0.5506 - val_accuracy: 0.8000\n",
            "Epoch 14/25\n",
            "25/25 - 0s - loss: 0.5034 - accuracy: 0.8163 - val_loss: 0.5331 - val_accuracy: 0.7950\n",
            "Epoch 15/25\n",
            "25/25 - 0s - loss: 0.4793 - accuracy: 0.8250 - val_loss: 0.5197 - val_accuracy: 0.8300\n",
            "Epoch 16/25\n",
            "25/25 - 0s - loss: 0.4591 - accuracy: 0.8250 - val_loss: 0.5064 - val_accuracy: 0.7700\n",
            "Epoch 17/25\n",
            "25/25 - 0s - loss: 0.4398 - accuracy: 0.8350 - val_loss: 0.4902 - val_accuracy: 0.8100\n",
            "Epoch 18/25\n",
            "25/25 - 0s - loss: 0.4184 - accuracy: 0.8438 - val_loss: 0.4799 - val_accuracy: 0.8250\n",
            "Epoch 19/25\n",
            "25/25 - 0s - loss: 0.4023 - accuracy: 0.8500 - val_loss: 0.4701 - val_accuracy: 0.8100\n",
            "Epoch 20/25\n",
            "25/25 - 0s - loss: 0.3878 - accuracy: 0.8512 - val_loss: 0.4623 - val_accuracy: 0.8250\n",
            "Epoch 21/25\n",
            "25/25 - 0s - loss: 0.3735 - accuracy: 0.8500 - val_loss: 0.4577 - val_accuracy: 0.8250\n",
            "Epoch 22/25\n",
            "25/25 - 0s - loss: 0.3648 - accuracy: 0.8500 - val_loss: 0.4523 - val_accuracy: 0.8250\n",
            "Epoch 23/25\n",
            "25/25 - 0s - loss: 0.3531 - accuracy: 0.8600 - val_loss: 0.4476 - val_accuracy: 0.8200\n",
            "Epoch 24/25\n",
            "25/25 - 0s - loss: 0.3446 - accuracy: 0.8650 - val_loss: 0.4428 - val_accuracy: 0.8350\n",
            "Epoch 25/25\n",
            "25/25 - 0s - loss: 0.3381 - accuracy: 0.8675 - val_loss: 0.4420 - val_accuracy: 0.8250\n"
          ],
          "name": "stdout"
        }
      ]
    },
    {
      "cell_type": "code",
      "metadata": {
        "colab": {
          "base_uri": "https://localhost:8080/",
          "height": 295
        },
        "id": "lAY-IIZTgD46",
        "outputId": "ea3d7dc8-e4d7-4c35-a056-9d0de6c326fa"
      },
      "source": [
        "import matplotlib.pyplot as plt\n",
        "\n",
        "plt.plot(training.history['accuracy'])\n",
        "plt.plot(training.history['loss'])\n",
        "plt.title('Training')\n",
        "plt.ylabel('Value')\n",
        "plt.xlabel('Epoch')\n",
        "plt.legend(['accuracy', 'loss'])\n",
        "plt.show()"
      ],
      "execution_count": 11,
      "outputs": [
        {
          "output_type": "display_data",
          "data": {
            "image/png": "[encoded data removed]",
            "text/plain": [
              "<Figure size 432x288 with 1 Axes>"
            ]
          },
          "metadata": {
            "tags": [],
            "needs_background": "light"
          }
        }
      ]
    },
    {
      "cell_type": "code",
      "metadata": {
        "colab": {
          "base_uri": "https://localhost:8080/",
          "height": 295
        },
        "id": "aZ258ROpg-h8",
        "outputId": "cd7fb584-8d61-4bac-cafc-51603314ca11"
      },
      "source": [
        "plt.plot(training.history['val_accuracy'])\n",
        "plt.plot(training.history['val_loss'])\n",
        "plt.title('Test')\n",
        "plt.ylabel('Value')\n",
        "plt.xlabel('Epoch')\n",
        "plt.legend(['val_accuracy', 'val_loss'])\n",
        "plt.show()"
      ],
      "execution_count": 12,
      "outputs": [
        {
          "output_type": "display_data",
          "data": {
            "image/png": "[encoded data removed]",
            "text/plain": [
              "<Figure size 432x288 with 1 Axes>"
            ]
          },
          "metadata": {
            "tags": [],
            "needs_background": "light"
          }
        }
      ]
    },
    {
      "cell_type": "code",
      "metadata": {
        "id": "tH4GXnR4hKQ5"
      },
      "source": [
        ""
      ],
      "execution_count": null,
      "outputs": []
    }
  ]
}